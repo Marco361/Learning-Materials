{
 "cells": [
  {
   "cell_type": "code",
   "execution_count": 7,
   "id": "1a387971",
   "metadata": {},
   "outputs": [
    {
     "name": "stdout",
     "output_type": "stream",
     "text": [
      "Why should you learn to write programs?\n",
      "\n",
      "Writing programs (or programming) is a very creative\n",
      "and rewarding activity.  You can write programs for\n",
      "many reasons, ranging from making your living to solving\n",
      "a difficult data analysis problem to having fun to helping\n",
      "someone else solve a problem.  This book assumes that\n",
      "everyone needs to know how to program, and that once\n",
      "you know how to program you will figure out what you want\n",
      "to do with your newfound skills.\n"
     ]
    }
   ],
   "source": [
    "import urllib.request\n",
    "fhand = urllib.request.urlopen('http://data.pr4e.org/intro-short.txt')\n",
    "for line in fhand:\n",
    "    print(line.decode().strip())"
   ]
  },
  {
   "cell_type": "code",
   "execution_count": null,
   "id": "dbd11a0e",
   "metadata": {},
   "outputs": [],
   "source": []
  }
 ],
 "metadata": {
  "kernelspec": {
   "display_name": "Python 3 (ipykernel)",
   "language": "python",
   "name": "python3"
  },
  "language_info": {
   "codemirror_mode": {
    "name": "ipython",
    "version": 3
   },
   "file_extension": ".py",
   "mimetype": "text/x-python",
   "name": "python",
   "nbconvert_exporter": "python",
   "pygments_lexer": "ipython3",
   "version": "3.9.7"
  }
 },
 "nbformat": 4,
 "nbformat_minor": 5
}
