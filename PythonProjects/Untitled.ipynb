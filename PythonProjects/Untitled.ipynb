{
 "cells": [
  {
   "cell_type": "code",
   "execution_count": 1,
   "id": "a298068d",
   "metadata": {},
   "outputs": [
    {
     "name": "stdout",
     "output_type": "stream",
     "text": [
      "jazdaa\n"
     ]
    }
   ],
   "source": [
    "print(\"jazdaa\")"
   ]
  },
  {
   "cell_type": "code",
   "execution_count": 2,
   "id": "b4e80f27",
   "metadata": {},
   "outputs": [
    {
     "data": {
      "text/plain": [
       "2"
      ]
     },
     "execution_count": 2,
     "metadata": {},
     "output_type": "execute_result"
    }
   ],
   "source": [
    "1+1\n"
   ]
  },
  {
   "cell_type": "code",
   "execution_count": 4,
   "id": "ec615194",
   "metadata": {},
   "outputs": [
    {
     "data": {
      "text/plain": [
       "'11'"
      ]
     },
     "execution_count": 4,
     "metadata": {},
     "output_type": "execute_result"
    }
   ],
   "source": [
    "\"1\"+\"1\""
   ]
  },
  {
   "cell_type": "code",
   "execution_count": 5,
   "id": "29738a45",
   "metadata": {},
   "outputs": [
    {
     "ename": "TypeError",
     "evalue": "can only concatenate str (not \"int\") to str",
     "output_type": "error",
     "traceback": [
      "\u001b[1;31m---------------------------------------------------------------------------\u001b[0m",
      "\u001b[1;31mTypeError\u001b[0m                                 Traceback (most recent call last)",
      "\u001b[1;32m~\\AppData\\Local\\Temp/ipykernel_10384/4024866279.py\u001b[0m in \u001b[0;36m<module>\u001b[1;34m\u001b[0m\n\u001b[1;32m----> 1\u001b[1;33m \u001b[1;34m\"1\"\u001b[0m\u001b[1;33m+\u001b[0m\u001b[1;36m1\u001b[0m\u001b[1;33m\u001b[0m\u001b[1;33m\u001b[0m\u001b[0m\n\u001b[0m",
      "\u001b[1;31mTypeError\u001b[0m: can only concatenate str (not \"int\") to str"
     ]
    }
   ],
   "source": [
    "\"1\"+1\n"
   ]
  },
  {
   "cell_type": "code",
   "execution_count": 6,
   "id": "40b16be8",
   "metadata": {},
   "outputs": [],
   "source": [
    "#hello to today I will show you how to program in python\n"
   ]
  },
  {
   "cell_type": "code",
   "execution_count": 7,
   "id": "53a489c8",
   "metadata": {},
   "outputs": [],
   "source": [
    "x = 5"
   ]
  },
  {
   "cell_type": "code",
   "execution_count": 8,
   "id": "e2661e55",
   "metadata": {},
   "outputs": [],
   "source": [
    "x = x + 5 "
   ]
  },
  {
   "cell_type": "code",
   "execution_count": 9,
   "id": "70493fb5",
   "metadata": {},
   "outputs": [
    {
     "name": "stdout",
     "output_type": "stream",
     "text": [
      "10\n"
     ]
    }
   ],
   "source": [
    "print(x)"
   ]
  },
  {
   "cell_type": "code",
   "execution_count": 14,
   "id": "cdc92d55",
   "metadata": {},
   "outputs": [
    {
     "name": "stdout",
     "output_type": "stream",
     "text": [
      "hehe0\n",
      "hehe1\n",
      "hehe2\n",
      "hehe3\n",
      "hehe4\n",
      "hehe5\n",
      "hehe6\n",
      "hehe7\n",
      "hehe8\n",
      "hehe9\n"
     ]
    }
   ],
   "source": [
    "for i in range(10):\n",
    "    print(f\"hehe{i}\")"
   ]
  },
  {
   "cell_type": "code",
   "execution_count": 15,
   "id": "1429d05a",
   "metadata": {},
   "outputs": [
    {
     "data": {
      "text/plain": [
       "'dlrow olleh'"
      ]
     },
     "execution_count": 15,
     "metadata": {},
     "output_type": "execute_result"
    }
   ],
   "source": [
    "x = \"hello world\"\n",
    "x[::-1]"
   ]
  },
  {
   "cell_type": "code",
   "execution_count": 16,
   "id": "1c4ed91f",
   "metadata": {},
   "outputs": [
    {
     "name": "stdout",
     "output_type": "stream",
     "text": [
      "A B C D E F G H I J K L M N O P Q R S T U V W X Y Z "
     ]
    }
   ],
   "source": [
    "for i in range(65, 91):\n",
    "    print(chr(i), end=\" \")"
   ]
  },
  {
   "cell_type": "code",
   "execution_count": 17,
   "id": "026122f1",
   "metadata": {},
   "outputs": [
    {
     "name": "stdout",
     "output_type": "stream",
     "text": [
      "AAMOOOOOOOOOS\n",
      "\n",
      "BAMOOOOOOOOOS\n",
      "\n",
      "CAMOOOOOOOOOS\n",
      "\n",
      "DAMOOOOOOOOOS\n",
      "\n",
      "EAMOOOOOOOOOS\n",
      "\n",
      "FAMOOOOOOOOOS\n",
      "\n",
      "GAMOOOOOOOOOS\n",
      "\n",
      "HAMOOOOOOOOOS\n",
      "\n",
      "IAMOOOOOOOOOS\n",
      "\n",
      "JAMOOOOOOOOOS\n",
      "\n",
      "KAMOOOOOOOOOS\n",
      "\n",
      "LAMOOOOOOOOOS\n",
      "\n",
      "MAMOOOOOOOOOS\n",
      "\n",
      "NAMOOOOOOOOOS\n",
      "\n",
      "OAMOOOOOOOOOS\n",
      "\n",
      "PAMOOOOOOOOOS\n",
      "\n",
      "QAMOOOOOOOOOS\n",
      "\n",
      "RAMOOOOOOOOOS\n",
      "\n",
      "SAMOOOOOOOOOS\n",
      "\n",
      "TAMOOOOOOOOOS\n",
      "\n",
      "UAMOOOOOOOOOS\n",
      "\n",
      "VAMOOOOOOOOOS\n",
      "\n",
      "WAMOOOOOOOOOS\n",
      "\n",
      "XAMOOOOOOOOOS\n",
      "\n",
      "YAMOOOOOOOOOS\n",
      "\n",
      "ZAMOOOOOOOOOS\n",
      "\n"
     ]
    }
   ],
   "source": [
    "for i in range(65, 91):\n",
    "    print(chr(i) + \"AMOOOOOOOOOS\\n\")"
   ]
  },
  {
   "cell_type": "code",
   "execution_count": 18,
   "id": "c538d2d6",
   "metadata": {},
   "outputs": [
    {
     "name": "stdout",
     "output_type": "stream",
     "text": [
      "tak\n"
     ]
    }
   ],
   "source": [
    "#sieć neuronowa\n",
    "print(\"tak\")"
   ]
  },
  {
   "cell_type": "code",
   "execution_count": 22,
   "id": "eb7fb8ee",
   "metadata": {},
   "outputs": [
    {
     "ename": "NameError",
     "evalue": "name 'model' is not defined",
     "output_type": "error",
     "traceback": [
      "\u001b[1;31m---------------------------------------------------------------------------\u001b[0m",
      "\u001b[1;31mNameError\u001b[0m                                 Traceback (most recent call last)",
      "\u001b[1;32m~\\AppData\\Local\\Temp/ipykernel_10384/2084761117.py\u001b[0m in \u001b[0;36m<module>\u001b[1;34m\u001b[0m\n\u001b[0;32m     32\u001b[0m                             features=X_instance, feature_names=X_names, max_display=top)\n\u001b[0;32m     33\u001b[0m \u001b[0mi\u001b[0m \u001b[1;33m=\u001b[0m \u001b[1;36m1\u001b[0m\u001b[1;33m\u001b[0m\u001b[1;33m\u001b[0m\u001b[0m\n\u001b[1;32m---> 34\u001b[1;33m explainer_shap(model, \n\u001b[0m\u001b[0;32m     35\u001b[0m                \u001b[0mX_names\u001b[0m\u001b[1;33m=\u001b[0m\u001b[0mlist_feature_names\u001b[0m\u001b[1;33m,\u001b[0m\u001b[1;33m\u001b[0m\u001b[1;33m\u001b[0m\u001b[0m\n\u001b[0;32m     36\u001b[0m                \u001b[0mX_instance\u001b[0m\u001b[1;33m=\u001b[0m\u001b[0mX\u001b[0m\u001b[1;33m[\u001b[0m\u001b[0mi\u001b[0m\u001b[1;33m]\u001b[0m\u001b[1;33m,\u001b[0m\u001b[1;33m\u001b[0m\u001b[1;33m\u001b[0m\u001b[0m\n",
      "\u001b[1;31mNameError\u001b[0m: name 'model' is not defined"
     ]
    }
   ],
   "source": [
    "'''\n",
    "Use shap to build an a explainer.\n",
    ":parameter\n",
    "    :param model: model instance (after fitting)\n",
    "    :param X_names: list\n",
    "    :param X_instance: array of size n x 1 (n,)\n",
    "    :param X_train: array - if None the model is simple machine learning, if not None then it's a deep learning model\n",
    "    :param task: string - \"classification\", \"regression\"\n",
    "    :param top: num - top features to display\n",
    ":return\n",
    "    dtf with explanations\n",
    "'''\n",
    "def explainer_shap(model, X_names, X_instance, X_train=None, task=\"classification\", top=10):\n",
    "    ## create explainer\n",
    "    ### machine learning\n",
    "    if X_train is None:\n",
    "        explainer = shap.TreeExplainer(model)\n",
    "        shap_values = explainer.shap_values(X_instance)\n",
    "    ### deep learning\n",
    "    else:\n",
    "        explainer = shap.DeepExplainer(model, data=X_train[:100])\n",
    "        shap_values = explainer.shap_values(X_instance.reshape(1,-1))[0].reshape(-1)\n",
    "\n",
    "    ## plot\n",
    "    ### classification\n",
    "    if task == \"classification\":\n",
    "        shap.decision_plot(explainer.expected_value, shap_values, link='logit', feature_order='importance',\n",
    "                           features=X_instance, feature_names=X_names, feature_display_range=slice(-1,-top-1,-1))\n",
    "    ### regression\n",
    "    else:\n",
    "        shap.waterfall_plot(explainer.expected_value[0], shap_values, \n",
    "                            features=X_instance, feature_names=X_names, max_display=top)\n",
    "i = 1\n",
    "explainer_shap(model, \n",
    "               X_names=list_feature_names, \n",
    "               X_instance=X[i], \n",
    "               X_train=X, \n",
    "               task=\"classification\", #task=\"regression\"\n",
    "               top=10)"
   ]
  },
  {
   "cell_type": "code",
   "execution_count": 20,
   "id": "21a81391",
   "metadata": {},
   "outputs": [
    {
     "ename": "NameError",
     "evalue": "name 'explainer_sharp' is not defined",
     "output_type": "error",
     "traceback": [
      "\u001b[1;31m---------------------------------------------------------------------------\u001b[0m",
      "\u001b[1;31mNameError\u001b[0m                                 Traceback (most recent call last)",
      "\u001b[1;32m~\\AppData\\Local\\Temp/ipykernel_10384/2049525064.py\u001b[0m in \u001b[0;36m<module>\u001b[1;34m\u001b[0m\n\u001b[1;32m----> 1\u001b[1;33m \u001b[0mexplainer_sharp\u001b[0m\u001b[1;33m(\u001b[0m\u001b[1;36m1\u001b[0m\u001b[1;33m,\u001b[0m \u001b[1;34m\"myk\"\u001b[0m\u001b[1;33m,\u001b[0m \u001b[1;36m7\u001b[0m\u001b[1;33m)\u001b[0m\u001b[1;33m\u001b[0m\u001b[1;33m\u001b[0m\u001b[0m\n\u001b[0m",
      "\u001b[1;31mNameError\u001b[0m: name 'explainer_sharp' is not defined"
     ]
    }
   ],
   "source": [
    "explainer_sharp(1, \"myk\", 7)"
   ]
  },
  {
   "cell_type": "code",
   "execution_count": 21,
   "id": "14ad6c8d",
   "metadata": {},
   "outputs": [
    {
     "ename": "NameError",
     "evalue": "name 'model' is not defined",
     "output_type": "error",
     "traceback": [
      "\u001b[1;31m---------------------------------------------------------------------------\u001b[0m",
      "\u001b[1;31mNameError\u001b[0m                                 Traceback (most recent call last)",
      "\u001b[1;32m~\\AppData\\Local\\Temp/ipykernel_10384/2478792667.py\u001b[0m in \u001b[0;36m<module>\u001b[1;34m\u001b[0m\n\u001b[0;32m      1\u001b[0m \u001b[0mi\u001b[0m \u001b[1;33m=\u001b[0m \u001b[1;36m1\u001b[0m\u001b[1;33m\u001b[0m\u001b[1;33m\u001b[0m\u001b[0m\n\u001b[1;32m----> 2\u001b[1;33m explainer_shap(model, \n\u001b[0m\u001b[0;32m      3\u001b[0m                \u001b[0mX_names\u001b[0m\u001b[1;33m=\u001b[0m\u001b[0mlist_feature_names\u001b[0m\u001b[1;33m,\u001b[0m\u001b[1;33m\u001b[0m\u001b[1;33m\u001b[0m\u001b[0m\n\u001b[0;32m      4\u001b[0m                \u001b[0mX_instance\u001b[0m\u001b[1;33m=\u001b[0m\u001b[0mX\u001b[0m\u001b[1;33m[\u001b[0m\u001b[0mi\u001b[0m\u001b[1;33m]\u001b[0m\u001b[1;33m,\u001b[0m\u001b[1;33m\u001b[0m\u001b[1;33m\u001b[0m\u001b[0m\n\u001b[0;32m      5\u001b[0m                \u001b[0mX_train\u001b[0m\u001b[1;33m=\u001b[0m\u001b[0mX\u001b[0m\u001b[1;33m,\u001b[0m\u001b[1;33m\u001b[0m\u001b[1;33m\u001b[0m\u001b[0m\n",
      "\u001b[1;31mNameError\u001b[0m: name 'model' is not defined"
     ]
    }
   ],
   "source": [
    "i = 1\n",
    "explainer_shap(model, \n",
    "               X_names=list_feature_names, \n",
    "               X_instance=X[i], \n",
    "               X_train=X, \n",
    "               task=\"classification\", #task=\"regression\"\n",
    "               top=10)"
   ]
  },
  {
   "cell_type": "code",
   "execution_count": null,
   "id": "50112d2c",
   "metadata": {},
   "outputs": [],
   "source": []
  }
 ],
 "metadata": {
  "kernelspec": {
   "display_name": "Python 3 (ipykernel)",
   "language": "python",
   "name": "python3"
  },
  "language_info": {
   "codemirror_mode": {
    "name": "ipython",
    "version": 3
   },
   "file_extension": ".py",
   "mimetype": "text/x-python",
   "name": "python",
   "nbconvert_exporter": "python",
   "pygments_lexer": "ipython3",
   "version": "3.9.7"
  }
 },
 "nbformat": 4,
 "nbformat_minor": 5
}
