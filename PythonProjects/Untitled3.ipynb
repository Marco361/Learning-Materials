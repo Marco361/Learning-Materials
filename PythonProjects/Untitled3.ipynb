{
 "cells": [
  {
   "cell_type": "code",
   "execution_count": 1,
   "id": "b6b42f88",
   "metadata": {},
   "outputs": [],
   "source": [
    "def NWD(a, b):\n",
    "    while a != b:\n",
    "        if a > b:\n",
    "            a = a - b\n",
    "        else:\n",
    "            b = b - a\n",
    "    return a"
   ]
  },
  {
   "cell_type": "code",
   "execution_count": 2,
   "id": "28f1d3b6",
   "metadata": {},
   "outputs": [
    {
     "data": {
      "text/plain": [
       "10"
      ]
     },
     "execution_count": 2,
     "metadata": {},
     "output_type": "execute_result"
    }
   ],
   "source": [
    "NWD(20,10)"
   ]
  },
  {
   "cell_type": "code",
   "execution_count": 4,
   "id": "9a321a60",
   "metadata": {},
   "outputs": [
    {
     "data": {
      "text/plain": [
       "3"
      ]
     },
     "execution_count": 4,
     "metadata": {},
     "output_type": "execute_result"
    }
   ],
   "source": [
    "NWD(15,6)"
   ]
  },
  {
   "cell_type": "code",
   "execution_count": 10,
   "id": "18fce270",
   "metadata": {},
   "outputs": [
    {
     "ename": "SyntaxError",
     "evalue": "invalid syntax (Temp/ipykernel_15368/1924277936.py, line 29)",
     "output_type": "error",
     "traceback": [
      "\u001b[1;36m  File \u001b[1;32m\"C:\\Users\\Marek\\AppData\\Local\\Temp/ipykernel_15368/1924277936.py\"\u001b[1;36m, line \u001b[1;32m29\u001b[0m\n\u001b[1;33m    print \"przed: \"+str(w)\u001b[0m\n\u001b[1;37m          ^\u001b[0m\n\u001b[1;31mSyntaxError\u001b[0m\u001b[1;31m:\u001b[0m invalid syntax\n"
     ]
    }
   ],
   "source": [
    "#!/usr/bin/python\n",
    "# -*- coding: utf-8 -*-\n",
    "import random\n",
    " \n",
    "def losuj(rozmiar, od, do): # zwraca tablicę o podanym rozmiarze\n",
    "    tab=[]                  # z wylosowanymi wartościami\n",
    "    while rozmiar>0: #dopóki jakieś musi dodać\n",
    "        tab.append(random.randint(od,do))\n",
    "        rozmiar-=1 #zmniejsza ilość pozostałych komórek do wylosowania\n",
    "    return tab\n",
    " \n",
    "#wersja algorytmu w ktorej za kazdym obiegiem glownej petli\n",
    "#przetwarzany jest jeden element mniej (z poczatku listy\n",
    "#bo tam juz nic nie ma prawa sie zmienic - przy jednym obiegu\n",
    "#na poczatek wyplywa element o najmniejszej wartosci)\n",
    "def sort(tab): #zwraca posortowaną tablicę\n",
    "    for i in range(len(tab)):\n",
    "        j=len(tab)-1 #od ostatniej komórki\n",
    "        while j>i:   #do aktualnie szukanej jako najmniejsza\n",
    "            if tab[j]<tab[j-1]: #jeśli komórka wcześniej jest mniejsza, zamienia\n",
    "                tmp=tab[j]\n",
    "                tab[j]=tab[j-1]\n",
    "                tab[j-1]=tmp\n",
    "            j-=1\n",
    "    return tab\n",
    " \n",
    "\n",
    "    w = losuj(10, 1,10)\n",
    "    print \"przed: \"+str(w)\n",
    "    x = sort(x)\n",
    "    print \"   po: \"+str(x)"
   ]
  },
  {
   "cell_type": "code",
   "execution_count": null,
   "id": "1d44fac3",
   "metadata": {},
   "outputs": [],
   "source": []
  }
 ],
 "metadata": {
  "kernelspec": {
   "display_name": "Python 3 (ipykernel)",
   "language": "python",
   "name": "python3"
  },
  "language_info": {
   "codemirror_mode": {
    "name": "ipython",
    "version": 3
   },
   "file_extension": ".py",
   "mimetype": "text/x-python",
   "name": "python",
   "nbconvert_exporter": "python",
   "pygments_lexer": "ipython3",
   "version": "3.9.7"
  }
 },
 "nbformat": 4,
 "nbformat_minor": 5
}
